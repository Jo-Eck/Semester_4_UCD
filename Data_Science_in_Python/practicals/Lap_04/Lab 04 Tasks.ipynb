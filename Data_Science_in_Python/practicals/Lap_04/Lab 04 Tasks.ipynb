{
 "cells": [
  {
   "cell_type": "markdown",
   "metadata": {},
   "source": [
    "# Lab 4 Tasks"
   ]
  },
  {
   "cell_type": "markdown",
   "metadata": {},
   "source": [
    "## Task 1 - JSON Parsing"
   ]
  },
  {
   "attachments": {},
   "cell_type": "markdown",
   "metadata": {},
   "source": [
    "Use Python to download a file containing movie metadata in JSON format from the URL: \n",
    "\n",
    "http://mlg.ucd.ie/modules/COMP41680/movies.json"
   ]
  },
  {
   "attachments": {},
   "cell_type": "markdown",
   "metadata": {},
   "source": []
  },
  {
   "cell_type": "code",
   "execution_count": 84,
   "metadata": {},
   "outputs": [],
   "source": [
    "import requests\n",
    "r = requests.get('http://mlg.ucd.ie/modules/COMP41680/movies.json')\n"
   ]
  },
  {
   "cell_type": "markdown",
   "metadata": {},
   "source": [
    "Parse the JSON data that you have downloaded."
   ]
  },
  {
   "cell_type": "code",
   "execution_count": 85,
   "metadata": {},
   "outputs": [],
   "source": [
    "movies = r.json()"
   ]
  },
  {
   "cell_type": "markdown",
   "metadata": {},
   "source": [
    "From the parsed JSON data, print a list of the all of the movie titles, along with the duration of each movie."
   ]
  },
  {
   "cell_type": "code",
   "execution_count": 86,
   "metadata": {},
   "outputs": [
    {
     "name": "stdout",
     "output_type": "stream",
     "text": [
      "['London Has Fallen', 'Deadpool', 'Kung Fu Panda 3', 'Spectre', 'Brooklyn', 'The Revenant', '1917', 'Joker', 'Uncut Gems', 'Knives Out', 'Jumanji: The Next Level', 'Venom', 'Incredibles 2', 'Suspiria', 'A Quiet Place']\n"
     ]
    }
   ],
   "source": [
    "print ([movie['Title'] for movie in movies])"
   ]
  },
  {
   "cell_type": "markdown",
   "metadata": {},
   "source": [
    "Extract and print the genre information for each movie."
   ]
  },
  {
   "cell_type": "code",
   "execution_count": 87,
   "metadata": {},
   "outputs": [
    {
     "name": "stdout",
     "output_type": "stream",
     "text": [
      "[{'London Has Fallen': 'Action, Crime, Thriller'}, {'Deadpool': 'Action, Adventure, Comedy'}, {'Kung Fu Panda 3': 'Animation, Action, Adventure'}, {'Spectre': 'Action, Adventure, Thriller'}, {'Brooklyn': 'Drama, Romance'}, {'The Revenant': 'Adventure, Drama, Thriller'}, {'1917': 'Drama, War'}, {'Joker': 'Crime, Drama, Thriller'}, {'Uncut Gems': 'Crime, Drama, Thriller'}, {'Knives Out': 'Comedy, Crime, Drama, Mystery, Thriller'}, {'Jumanji: The Next Level': 'Action, Adventure, Comedy, Fantasy'}, {'Venom': 'Action, Sci-Fi, Thriller'}, {'Incredibles 2': 'Animation, Action, Adventure, Comedy, Family, Sci-Fi'}, {'Suspiria': 'Fantasy, Horror, Mystery, Thriller'}, {'A Quiet Place': 'Drama, Horror, Sci-Fi'}]\n"
     ]
    }
   ],
   "source": [
    "print (movie_with_genre := [{movie['Title']:movie['Genre']} for movie in movies])"
   ]
  },
  {
   "cell_type": "markdown",
   "metadata": {},
   "source": [
    "Export the complete movie data to a new file in CSV format."
   ]
  },
  {
   "cell_type": "code",
   "execution_count": 88,
   "metadata": {},
   "outputs": [],
   "source": [
    "import csv\n",
    "\n",
    "with open('movies.csv', 'w', newline='') as csvfile:\n",
    "    writer = csv.DictWriter(csvfile,movies[0].keys())\n",
    "    writer.writeheader()\n",
    "    [writer.writerow(movie) for movie in movies]"
   ]
  },
  {
   "cell_type": "markdown",
   "metadata": {},
   "source": [
    "## Task 2 - XML Parsing"
   ]
  },
  {
   "cell_type": "markdown",
   "metadata": {},
   "source": [
    "Use Python to download a file containing a contact list in XML format from the URL: \n",
    "\n",
    "http://mlg.ucd.ie/modules/COMP41680/contacts.xml"
   ]
  },
  {
   "cell_type": "code",
   "execution_count": 89,
   "metadata": {},
   "outputs": [],
   "source": [
    "r = requests.get('http://mlg.ucd.ie/modules/COMP41680/contacts.xml')"
   ]
  },
  {
   "cell_type": "markdown",
   "metadata": {},
   "source": [
    "Parse the XML data that you have downloaded."
   ]
  },
  {
   "cell_type": "code",
   "execution_count": 90,
   "metadata": {},
   "outputs": [],
   "source": [
    "import xml.etree.ElementTree as ET\n",
    "root = ET.ElementTree(ET.fromstring(r.text)).getroot()\n"
   ]
  },
  {
   "cell_type": "markdown",
   "metadata": {},
   "source": [
    "From the parsed XML data, extract the name, email address and phone number of each contact. \n",
    "\n",
    "Store these contacts in a list of dictionaries, and print them out."
   ]
  },
  {
   "cell_type": "code",
   "execution_count": 93,
   "metadata": {},
   "outputs": [
    {
     "name": "stdout",
     "output_type": "stream",
     "text": [
      "[{'name': 'John Smith', 'phone': '085-456-7890', 'email': 'johnsmith243@gmail.com'}, {'name': 'Alice Murphy', 'phone': '086-456-7891', 'email': 'alice.murphy12@ucd.ie'}, {'name': 'Joe Adams', 'phone': '086-222-4654', 'email': 'joeadams2016@tcd.ie'}, {'name': 'Carol Conroy', 'phone': '087-131-1331', 'email': 'cconry1342@gmail.com'}, {'name': 'Mary Carthy', 'phone': '086-221-7433', 'email': 'mcarthy1987@ucd.ie'}]\n"
     ]
    }
   ],
   "source": [
    "print (contacts := [{subchild.tag: subchild.text for subchild in child} for child in root])  \n"
   ]
  },
  {
   "cell_type": "markdown",
   "metadata": {},
   "source": [
    "Export the contact data to a new file in CSV format."
   ]
  },
  {
   "cell_type": "code",
   "execution_count": 94,
   "metadata": {},
   "outputs": [],
   "source": [
    "with open('contacts.csv', 'w', newline='') as csvfile:\n",
    "    writer = csv.DictWriter(csvfile,contacts[0].keys())\n",
    "    writer.writeheader()\n",
    "    [writer.writerow(contact) for contact in contacts]"
   ]
  },
  {
   "cell_type": "markdown",
   "metadata": {},
   "source": [
    "Use Pickle to serialise the contact data to a file. Verify that you can deseralise the data again."
   ]
  },
  {
   "cell_type": "code",
   "execution_count": 96,
   "metadata": {},
   "outputs": [
    {
     "name": "stdout",
     "output_type": "stream",
     "text": [
      "[{'name': 'John Smith', 'phone': '085-456-7890', 'email': 'johnsmith243@gmail.com'}, {'name': 'Alice Murphy', 'phone': '086-456-7891', 'email': 'alice.murphy12@ucd.ie'}, {'name': 'Joe Adams', 'phone': '086-222-4654', 'email': 'joeadams2016@tcd.ie'}, {'name': 'Carol Conroy', 'phone': '087-131-1331', 'email': 'cconry1342@gmail.com'}, {'name': 'Mary Carthy', 'phone': '086-221-7433', 'email': 'mcarthy1987@ucd.ie'}]\n"
     ]
    }
   ],
   "source": [
    "import pickle\n",
    "pickle.dump(contacts, open('contacts.pkl', 'wb'))\n",
    "print(pickle.load(open('contacts.pkl', 'rb')))"
   ]
  }
 ],
 "metadata": {
  "anaconda-cloud": {},
  "kernelspec": {
   "display_name": "Python 3",
   "language": "python",
   "name": "python3"
  },
  "language_info": {
   "codemirror_mode": {
    "name": "ipython",
    "version": 3
   },
   "file_extension": ".py",
   "mimetype": "text/x-python",
   "name": "python",
   "nbconvert_exporter": "python",
   "pygments_lexer": "ipython3",
   "version": "3.10.9"
  },
  "vscode": {
   "interpreter": {
    "hash": "e7370f93d1d0cde622a1f8e1c04877d8463912d04d973331ad4851f04de6915a"
   }
  }
 },
 "nbformat": 4,
 "nbformat_minor": 1
}
