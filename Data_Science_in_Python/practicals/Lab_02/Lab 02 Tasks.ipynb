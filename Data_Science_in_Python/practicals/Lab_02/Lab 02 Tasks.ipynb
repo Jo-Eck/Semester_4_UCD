{
 "cells": [
  {
   "cell_type": "markdown",
   "metadata": {},
   "source": [
    "# Lab 2 Tasks"
   ]
  },
  {
   "attachments": {},
   "cell_type": "markdown",
   "metadata": {},
   "source": [
    "### Task 1\n",
    "\n",
    "Create a function *sorted_random()* which generates a list of *n* random numbers, sorted in descending order (i.e. largest first). The number *n* should be an input argument for the function. If no value is specified for *n*, by default a list of 10 numbers should be generated.\n"
   ]
  },
  {
   "cell_type": "code",
   "execution_count": null,
   "metadata": {},
   "outputs": [],
   "source": [
    "import random as rnd"
   ]
  },
  {
   "cell_type": "code",
   "execution_count": 25,
   "metadata": {},
   "outputs": [
    {
     "name": "stdout",
     "output_type": "stream",
     "text": [
      "None\n"
     ]
    }
   ],
   "source": [
    "def sorted_random(n = 10):\n",
    "    (val := [int(rnd.random()*100) for i in range(n)]).sort( reverse=True )\n",
    "    return val\n"
   ]
  },
  {
   "cell_type": "markdown",
   "metadata": {},
   "source": [
    "### Task 2\n",
    "\n",
    "Download the comma-separated file *scores.csv* from the module Brightspace page and save it to the same directory as your notebook. \n",
    "\n",
    "Write a function *display_numbers()* which takes one argument - an input file path. The function should read floating point numbers from each line in the specified file, and compute the total for the values on each line. Print each total to 2 decimal places. \n",
    "\n",
    "Apply the function *display_numbers()* to *scores.csv*."
   ]
  },
  {
   "cell_type": "code",
   "execution_count": 69,
   "metadata": {},
   "outputs": [
    {
     "data": {
      "text/plain": [
       "[2.84, 3.57, 1.57, 2.41, 2.47, 3.02]"
      ]
     },
     "execution_count": 69,
     "metadata": {},
     "output_type": "execute_result"
    }
   ],
   "source": [
    "def display_numbers(path):\n",
    "        return [round(sum([float(val) for val in row.strip().split(\",\")]),2) for row in open(path, \"r\")]\n",
    "\n",
    "display_numbers(\"../Lab_02/lab02-data/scores.csv\")"
   ]
  },
  {
   "cell_type": "markdown",
   "metadata": {
    "collapsed": true
   },
   "source": [
    "### Task 3\n",
    "\n",
    "Write a function *reverse_numbers()* which takes two arguments - an input file path and an output file path. The function should read floating point numbers from each line in the specified input file. The order of the values from in line should then be reversed, and these lines should be written to the specifed output file.\n",
    "\n",
    "Apply the function *reverse_numbers()* to the file *scores.csv* from Task 1 to create a new output file *reversed.csv*."
   ]
  },
  {
   "cell_type": "code",
   "execution_count": 76,
   "metadata": {},
   "outputs": [
    {
     "name": "stdout",
     "output_type": "stream",
     "text": [
      "0.78,0.61,0.75,0.88,0.72,0.76,0.49,0.50,0.58,0.66,0.61,0.56,0.45,0.34,0.35,0.43,0.99,0.78,0.89,0.91,0.89,0.58,0.63,0.74\n",
      "0.74,0.63,0.58,0.89,0.91,0.89,0.78,0.99,0.43,0.35,0.34,0.45,0.56,0.61,0.66,0.58,0.50,0.49,0.76,0.72,0.88,0.75,0.61,0.78\n"
     ]
    }
   ],
   "source": [
    "def reverse_nubers(path):\n",
    "    (nums := [val for row in open(path, \"r\")  for val in row.strip().split(\",\")]).reverse()\n",
    "    open(path, \"w\").write(\",\".join(nums))\n",
    "\n",
    "reverse_nubers(\"../Lab_02/lab02-data/scores.csv\")"
   ]
  },
  {
   "cell_type": "markdown",
   "metadata": {},
   "source": [
    "### Task 4\n",
    "\n",
    "Download the comma-separated file *worldcup.csv* from the module Brightspace page and save it to the same directory as your notebook. This data file contains a list of the winners and runners-up for all FIFA World Cup finals, one final per line.\n",
    "\n",
    "Write a function *count_finalists()* which takes a single argument (an input file path), reads the data, and displays the number of times each country has appeared in a World Cup final. Countries should be displayed in alphabetical order.\n",
    "\n",
    "Apply the function *count_finalists()* to the file *worldcup.csv*."
   ]
  },
  {
   "cell_type": "code",
   "execution_count": 12,
   "metadata": {},
   "outputs": [
    {
     "name": "stdout",
     "output_type": "stream",
     "text": [
      "Counter({'Brazil': 7, 'Italy': 6, 'West Germany': 6, 'Argentina': 5, 'France': 3, 'Netherlands': 3, 'Uruguay': 2, 'Germany': 2, 'Czechoslovakia': 2, 'Hungary': 2, 'England': 1, 'Spain': 1, 'Sweden': 1, 'Croatia': 1})\n"
     ]
    }
   ],
   "source": [
    "from collections import Counter\n",
    "def count_finalists(path):\n",
    "    print(Counter([row.strip().split(\",\")[1] for row in open(path, \"r\")][1:]+[row.strip().split(\",\")[2] for row in open(path, \"r\")][1:]))\n",
    "    \n",
    "count_finalists(\"../Lab_02/lab02-data/worldcup.csv\")"
   ]
  },
  {
   "cell_type": "code",
   "execution_count": null,
   "metadata": {},
   "outputs": [],
   "source": []
  }
 ],
 "metadata": {
  "kernelspec": {
   "display_name": "Python 3",
   "language": "python",
   "name": "python3"
  },
  "language_info": {
   "codemirror_mode": {
    "name": "ipython",
    "version": 3
   },
   "file_extension": ".py",
   "mimetype": "text/x-python",
   "name": "python",
   "nbconvert_exporter": "python",
   "pygments_lexer": "ipython3",
   "version": "3.10.9"
  },
  "vscode": {
   "interpreter": {
    "hash": "767d51c1340bd893661ea55ea3124f6de3c7a262a8b4abca0554b478b1e2ff90"
   }
  }
 },
 "nbformat": 4,
 "nbformat_minor": 1
}
