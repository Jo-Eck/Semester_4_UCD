{
 "cells": [
  {
   "attachments": {},
   "cell_type": "markdown",
   "metadata": {},
   "source": [
    "# Lab 1 Tasks\n",
    "\n",
    "The code below creates two Python lists -- one list with English words, and a corresponding list with French words.\n",
    "\n",
    "> Extra challenge: complete every task in only one line!"
   ]
  },
  {
   "cell_type": "code",
   "execution_count": 1,
   "metadata": {},
   "outputs": [],
   "source": [
    "english = [\"hello\", \"cat\", \"dog\", \"yes\", \"tomorrow\", \"yesterday\", \"fish\", \n",
    "          \"difficult\", \"easy\", \"bad\", \"no\", \"tuesday\", \"january\", \"world\"]"
   ]
  },
  {
   "cell_type": "code",
   "execution_count": 2,
   "metadata": {},
   "outputs": [],
   "source": [
    "french = [\"bonjour\", \"chat\", \"chien\", \"oui\", \"demain\", \"hier\", \"poisson\",\n",
    "          \"difficile\", \"facile\", \"mauvais\", \"non\", \"mardi\", \"janvier\", \"monde\"]"
   ]
  },
  {
   "cell_type": "markdown",
   "metadata": {},
   "source": [
    "### Task 1\n",
    "\n",
    "Confirm that both lists contain an equal number of values."
   ]
  },
  {
   "cell_type": "code",
   "execution_count": 3,
   "metadata": {},
   "outputs": [
    {
     "data": {
      "text/plain": [
       "True"
      ]
     },
     "execution_count": 3,
     "metadata": {},
     "output_type": "execute_result"
    }
   ],
   "source": [
    "len(french) == len(english)"
   ]
  },
  {
   "cell_type": "markdown",
   "metadata": {},
   "source": [
    "### Task 2\n",
    "\n",
    "Create a Python dictionary, which maps English words to French words, using the two lists above. "
   ]
  },
  {
   "cell_type": "code",
   "execution_count": 4,
   "metadata": {},
   "outputs": [
    {
     "name": "stdout",
     "output_type": "stream",
     "text": [
      "{'hello': 'bonjour', 'cat': 'chat', 'dog': 'chien', 'yes': 'oui', 'tomorrow': 'demain', 'yesterday': 'hier', 'fish': 'poisson', 'difficult': 'difficile', 'easy': 'facile', 'bad': 'mauvais', 'no': 'non', 'tuesday': 'mardi', 'january': 'janvier', 'world': 'monde'}\n"
     ]
    }
   ],
   "source": [
    "print(f\"{((val := dict (zip(english,french))))}\")"
   ]
  },
  {
   "cell_type": "markdown",
   "metadata": {},
   "source": [
    "### Task 3\n",
    "\n",
    "Remove all key-value pairs from the dictionary above, where the keys (i.e. the English words) contain less than 4 characters."
   ]
  },
  {
   "cell_type": "code",
   "execution_count": 5,
   "metadata": {},
   "outputs": [],
   "source": [
    "_ = [val.pop(x) for x in dict(val) if len(x) < 4]\n"
   ]
  },
  {
   "cell_type": "markdown",
   "metadata": {},
   "source": [
    "### Task 4\n",
    "\n",
    "For the remaining words, print an alphabetically-ordered list of the English words and their corresponding French translations."
   ]
  },
  {
   "cell_type": "code",
   "execution_count": 6,
   "metadata": {},
   "outputs": [
    {
     "data": {
      "text/plain": [
       "{'difficult': 'difficile',\n",
       " 'easy': 'facile',\n",
       " 'fish': 'poisson',\n",
       " 'hello': 'bonjour',\n",
       " 'january': 'janvier',\n",
       " 'tomorrow': 'demain',\n",
       " 'tuesday': 'mardi',\n",
       " 'world': 'monde',\n",
       " 'yesterday': 'hier'}"
      ]
     },
     "execution_count": 6,
     "metadata": {},
     "output_type": "execute_result"
    }
   ],
   "source": [
    "dict(sorted(val.items()))"
   ]
  },
  {
   "cell_type": "markdown",
   "metadata": {},
   "source": [
    "### Task 5\n",
    "\n",
    "Write a new function named *translate()* which accepts 3 parameters: a translation dictionary, a word to translate, and a default word. If the word is in the dictionary, the function should return the translated word. Otherwise, it should return the default word."
   ]
  },
  {
   "cell_type": "code",
   "execution_count": 7,
   "metadata": {},
   "outputs": [],
   "source": [
    "def translate (dictionary : dict, query:str , default = \"Not in dict\"): return dictionary[query] if query in dictionary is not None else default"
   ]
  }
 ],
 "metadata": {
  "kernelspec": {
   "display_name": "Python 3",
   "language": "python",
   "name": "python3"
  },
  "language_info": {
   "codemirror_mode": {
    "name": "ipython",
    "version": 3
   },
   "file_extension": ".py",
   "mimetype": "text/x-python",
   "name": "python",
   "nbconvert_exporter": "python",
   "pygments_lexer": "ipython3",
   "version": "3.10.9 (main, Dec  7 2022, 00:00:00) [GCC 12.2.1 20221121 (Red Hat 12.2.1-4)]"
  },
  "vscode": {
   "interpreter": {
    "hash": "e7370f93d1d0cde622a1f8e1c04877d8463912d04d973331ad4851f04de6915a"
   }
  }
 },
 "nbformat": 4,
 "nbformat_minor": 1
}
